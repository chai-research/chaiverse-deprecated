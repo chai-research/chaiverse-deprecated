{
 "cells": [
  {
   "cell_type": "markdown",
   "id": "42f5a5aa-e485-49fd-80b1-48852d0db23a",
   "metadata": {},
   "source": [
    "# Reward Model testing pipeline"
   ]
  },
  {
   "cell_type": "code",
   "execution_count": null,
   "id": "f2a5d5a2-0b6c-4de7-8653-9fd208b44649",
   "metadata": {},
   "outputs": [],
   "source": [
    "import logging\n",
    "import os\n",
    "import huggingface_hub\n",
    "\n",
    "import chai_guanaco as chai\n",
    "\n",
    "from chaiverse.dev.dataset import DatasetLoader, RewardDatasetBuilder\n",
    "from chaiverse.dev.tokenizer import GPT2Tokenizer\n",
    "from chaiverse.dev.model.reward_model import RewardClassificationTrainer, RewardRegressionTrainer"
   ]
  },
  {
   "cell_type": "markdown",
   "id": "fa72d1e4-c148-4e36-87be-8dc28d02226d",
   "metadata": {},
   "source": [
    "## login setup"
   ]
  },
  {
   "cell_type": "code",
   "execution_count": null,
   "id": "92a1b056-a1ca-4f5a-b7cf-137137ca58e0",
   "metadata": {},
   "outputs": [],
   "source": [
    "chai.developer_login()"
   ]
  },
  {
   "cell_type": "code",
   "execution_count": null,
   "id": "806da82e-eb85-47d4-9814-7629c2184ad6",
   "metadata": {},
   "outputs": [],
   "source": [
    "huggingface_hub.login()"
   ]
  },
  {
   "cell_type": "code",
   "execution_count": null,
   "id": "b835bb2c-7fe0-44f1-8ccc-0be26a2106b2",
   "metadata": {},
   "outputs": [],
   "source": [
    "os.environ[\"WANDB_DISABLED\"] = \"true\"\n",
    "logging.basicConfig(level=logging.INFO)"
   ]
  },
  {
   "cell_type": "markdown",
   "id": "037077ee-0506-431d-9a58-3cb8e02e1262",
   "metadata": {},
   "source": [
    "## Load and process a small dataset"
   ]
  },
  {
   "cell_type": "code",
   "execution_count": null,
   "id": "91d69d31-a724-41ae-87f0-bfc704499820",
   "metadata": {},
   "outputs": [],
   "source": [
    "# load data\n",
    "data_path = 'ChaiML/20231012_chai_prize_reward_model_data'\n",
    "data_loader = DatasetLoader(\n",
    "        hf_path=data_path,\n",
    "        data_samples=100,\n",
    "        validation_split_size=0.1,\n",
    "        shuffle=True,\n",
    "        )\n",
    "df = data_loader.load()\n",
    "print(df)"
   ]
  },
  {
   "cell_type": "code",
   "execution_count": null,
   "id": "ec442b84-a0d8-4afd-a422-a0d31f21b81c",
   "metadata": {},
   "outputs": [],
   "source": [
    "# process data\n",
    "tokenizer_loader = GPT2Tokenizer(\n",
    "        padding_side='right',\n",
    "        truncation_side='left',\n",
    "        )\n",
    "data_builder = RewardDatasetBuilder(\n",
    "        tokenizer_loader=tokenizer_loader,\n",
    "        block_size=512,\n",
    "        )\n",
    "data = data_builder.generate(df)\n",
    "print(data)"
   ]
  },
  {
   "cell_type": "markdown",
   "id": "5aeee02b-19ec-47f7-8b67-bd8429288cf2",
   "metadata": {},
   "source": [
    "## model setup and fitting"
   ]
  },
  {
   "cell_type": "code",
   "execution_count": null,
   "id": "8fb72042-a60b-46d1-bcc4-6c4e90276e04",
   "metadata": {},
   "outputs": [],
   "source": [
    "# train model\n",
    "model = RewardClassificationTrainer(\n",
    "        model_name='gpt2',\n",
    "        tokenizer_loader=tokenizer_loader,\n",
    "        output_dir='test_reward_model',\n",
    "        # num_labels=2,\n",
    "        learning_rate=1e-5,\n",
    "        num_train_epochs=1,\n",
    "        bf16=False,\n",
    "        logging_strategy='steps',\n",
    "        logging_steps=2,\n",
    "        eval_strategy='steps',\n",
    "        eval_steps=2\n",
    "        )"
   ]
  },
  {
   "cell_type": "code",
   "execution_count": null,
   "id": "e9588d63-d56b-43f5-9751-6575fe0fba50",
   "metadata": {},
   "outputs": [],
   "source": [
    "model.fit(data)"
   ]
  },
  {
   "cell_type": "markdown",
   "id": "e535fce1-9f59-4026-ab37-c49884425640",
   "metadata": {},
   "source": [
    "## upload model"
   ]
  },
  {
   "cell_type": "code",
   "execution_count": null,
   "id": "9f40c8a0-c2e5-4b18-aec2-cf23d0df5365",
   "metadata": {},
   "outputs": [],
   "source": [
    "#your hugging-face model path\n",
    "model_path = ''\n",
    "model.push_to_hub(model_path)"
   ]
  },
  {
   "cell_type": "markdown",
   "id": "5f34c58f",
   "metadata": {},
   "source": [
    "## Submit to competition"
   ]
  },
  {
   "cell_type": "code",
   "execution_count": null,
   "id": "47d22d37",
   "metadata": {},
   "outputs": [],
   "source": [
    "model_url = \"\"\n",
    "reward_url = \"\"\n",
    "\n",
    "submission_parameters = {\n",
    "\t\"model_repo\": model_url,\n",
    "  \"reward_repo\": reward_url,\n",
    "\t\"generation_params\": {\n",
    "\t\t\"temperature\": 0.99,\n",
    "    \"top_p\": 0.2,\n",
    "    \"top_k\": 40,\n",
    "    \"stopping_words\": ['\\n'],\n",
    "    \"presence_penalty\": 0.,\n",
    "    \"frequency_penalty\": 0.,\n",
    "    \"max_input_tokens\": 2048\n",
    "\t},\n",
    "  'model_name': 'My-First-RwardModel',\n",
    "}"
   ]
  },
  {
   "cell_type": "code",
   "execution_count": null,
   "id": "b0fd0bfa",
   "metadata": {},
   "outputs": [],
   "source": [
    "submitter = chai.ModelSubmitter(verbose=True)\n",
    "submission_id = submitter.submit(submission_parameters)"
   ]
  }
 ],
 "metadata": {
  "kernelspec": {
   "display_name": "Python 3 (ipykernel)",
   "language": "python",
   "name": "python3"
  },
  "language_info": {
   "codemirror_mode": {
    "name": "ipython",
    "version": 3
   },
   "file_extension": ".py",
   "mimetype": "text/x-python",
   "name": "python",
   "nbconvert_exporter": "python",
   "pygments_lexer": "ipython3",
   "version": "3.10.12"
  }
 },
 "nbformat": 4,
 "nbformat_minor": 5
}
